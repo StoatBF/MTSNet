{
 "cells": [
  {
   "cell_type": "code",
   "execution_count": null,
   "id": "b9b318f0-c2b0-4ab5-8821-1d548b03d6bb",
   "metadata": {},
   "outputs": [],
   "source": [
    "class ResidualCell(ModifierCell):\n",
    "    \"\"\"\n",
    "    Adds residual connection as described in Wu et al, 2016\n",
    "    (https://arxiv.org/abs/1609.08144).\n",
    "    Output of the cell is output of the base cell plus input.\n",
    "    \"\"\"\n",
    "\n",
    "    def __init__(self, base_cell):\n",
    "        # pylint: disable=useless-super-delegation\n",
    "        super(ResidualCell, self).__init__(base_cell)\n",
    "\n",
    "    def hybrid_forward(self, F, inputs, states):\n",
    "        output, states = self.base_cell(inputs, states)\n",
    "        output = F.elemwise_add(output, inputs, name='t%d_fwd'%self._counter)\n",
    "        return output, states\n",
    "\n",
    "\n",
    "    def unroll(self, length, inputs, begin_state=None, layout='NTC', merge_outputs=None,\n",
    "               valid_length=None):\n",
    "        self.reset()\n",
    "\n",
    "        self.base_cell._modified = False\n",
    "        outputs, states = self.base_cell.unroll(length, inputs=inputs, begin_state=begin_state,\n",
    "                                                layout=layout, merge_outputs=merge_outputs,\n",
    "                                                valid_length=valid_length)\n",
    "        self.base_cell._modified = True\n",
    "\n",
    "        merge_outputs = isinstance(outputs, tensor_types) if merge_outputs is None else \\\n",
    "                        merge_outputs\n",
    "        inputs, axis, F, _ = _format_sequence(length, inputs, layout, merge_outputs)\n",
    "        if valid_length is not None:\n",
    "            # mask the padded inputs to zero\n",
    "            inputs = _mask_sequence_variable_length(F, inputs, length, valid_length, axis,\n",
    "                                                    merge_outputs)\n",
    "        if merge_outputs:\n",
    "            outputs = F.elemwise_add(outputs, inputs)\n",
    "        else:\n",
    "            outputs = [F.elemwise_add(i, j) for i, j in zip(outputs, inputs)]\n",
    "\n",
    "        return outputs, states"
   ]
  }
 ],
 "metadata": {
  "kernelspec": {
   "display_name": "Python 3 (ipykernel)",
   "language": "python",
   "name": "python3"
  },
  "language_info": {
   "codemirror_mode": {
    "name": "ipython",
    "version": 3
   },
   "file_extension": ".py",
   "mimetype": "text/x-python",
   "name": "python",
   "nbconvert_exporter": "python",
   "pygments_lexer": "ipython3",
   "version": "3.7.11"
  }
 },
 "nbformat": 4,
 "nbformat_minor": 5
}
